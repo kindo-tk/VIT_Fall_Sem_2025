{
 "cells": [
  {
   "cell_type": "markdown",
   "id": "e16014b7",
   "metadata": {},
   "source": [
    "| **Name**         | Tufan Kundu               |\n",
    "|------------------|---------------------------|\n",
    "| **Reg No.**      | 24MDT0184                 |\n",
    "| **Course Name**  | Advanced Machine Learning Lab   |\n",
    "| **Course Code**  | PMDS602P                  |\n",
    "| **Date**   | 15 July, 2025  |\n"
   ]
  },
  {
   "cell_type": "markdown",
   "id": "6f14e63f",
   "metadata": {},
   "source": [
    "## Q1- Ask the user for a natural number, and print all the prime number <=n."
   ]
  },
  {
   "cell_type": "code",
   "execution_count": null,
   "id": "309433a5",
   "metadata": {},
   "outputs": [],
   "source": [
    "## Function to check prime\n",
    "def is_prime(n):\n",
    "    if n<2:\n",
    "        return False\n",
    "    else:\n",
    "        for i in range(2, int(n**0.5)+1):\n",
    "            if n % i == 0:\n",
    "                return False\n",
    "        return True"
   ]
  },
  {
   "cell_type": "code",
   "execution_count": 10,
   "id": "564200ca",
   "metadata": {},
   "outputs": [
    {
     "name": "stdout",
     "output_type": "stream",
     "text": [
      "Prime numbers less than or equal to  25 are:\n",
      "2\t3\t5\t7\t11\t13\t17\t19\t23\t"
     ]
    }
   ],
   "source": [
    "n = int(input(\"Enter a number n:\"))\n",
    "if n<=0:\n",
    "    print(\"Please enter a valid natural number greater than 0\")\n",
    "else:\n",
    "    print(f\"Prime numbers less than or equal to  {n} are:\")\n",
    "    for i in range(2,n+1):\n",
    "        if is_prime(i):\n",
    "            print(i, end = \"\\t\")\n",
    "    "
   ]
  },
  {
   "cell_type": "markdown",
   "id": "8c79e0b2",
   "metadata": {},
   "source": [
    "## 2- Generate random head and tail, if it's a head the user wins else loses."
   ]
  },
  {
   "cell_type": "code",
   "execution_count": 15,
   "id": "ef5b605c",
   "metadata": {},
   "outputs": [
    {
     "name": "stdout",
     "output_type": "stream",
     "text": [
      "0\n",
      "It's a tail, the user loses!\n"
     ]
    }
   ],
   "source": [
    "# Head-1\n",
    "# Tail-0\n",
    "import numpy as np \n",
    "toss = np.random.randint(0,2)\n",
    "print(toss)\n",
    "if toss==1:\n",
    "    print(\"It's a head, the user wins!\")\n",
    "else:\n",
    "    print(\"It's a tail, the user loses!\")"
   ]
  },
  {
   "cell_type": "markdown",
   "id": "cc110825",
   "metadata": {},
   "source": [
    "## 3- Ask the user for n, then print n randomly generated integer between -10 to +10"
   ]
  },
  {
   "cell_type": "code",
   "execution_count": 20,
   "id": "c27221fc",
   "metadata": {},
   "outputs": [
    {
     "name": "stdout",
     "output_type": "stream",
     "text": [
      "10 randomly generated integer between -10 and 10 are:\n",
      "-4\t8\t2\t-7\t-10\t8\t-3\t3\t-6\t10\t"
     ]
    }
   ],
   "source": [
    "import numpy as np \n",
    "n = int(input(\"Enter the value of n:\"))\n",
    "if n<=0:\n",
    "    print(\"Please enter a positive integer greater than 0\")\n",
    "else:\n",
    "    print(f\"{n} randomly generated integer between -10 and 10 are:\")\n",
    "    for i in range(n):\n",
    "        print(np.random.randint(-10,11), end = \"\\t\")"
   ]
  },
  {
   "cell_type": "markdown",
   "id": "8a0ea1de",
   "metadata": {},
   "source": [
    "## 4- Ask the user for n, then print n randomly generated real numbers"
   ]
  },
  {
   "cell_type": "code",
   "execution_count": 23,
   "id": "18b2bbea",
   "metadata": {},
   "outputs": [
    {
     "name": "stdout",
     "output_type": "stream",
     "text": [
      "10 randomly generated real numbers are:\n",
      "[ 7.83768726 -0.54185421  0.4460044   8.02138063  5.20967766  8.57307748\n",
      "  8.89953106 -3.27726518  4.22396833  0.08948407]\n"
     ]
    }
   ],
   "source": [
    "import numpy as np\n",
    "n = int(input(\"Enter the value of n: \"))\n",
    "if n <= 0:\n",
    "    print(\"Please enter a positive integer greater than 0.\")\n",
    "else:\n",
    "    print(f\"{n} randomly generated real numbers are:\")\n",
    "    print(np.random.uniform(-10,10,n))"
   ]
  },
  {
   "cell_type": "markdown",
   "id": "4b79c3da",
   "metadata": {},
   "source": [
    "## 5- Ask user for n, generate n normally distributed real numbers following standard normal distribution with mean = 0 and standard deviation 1."
   ]
  },
  {
   "cell_type": "code",
   "execution_count": 25,
   "id": "87e9c397",
   "metadata": {},
   "outputs": [
    {
     "name": "stdout",
     "output_type": "stream",
     "text": [
      "10 randomly generated normally distributed numbers are:\n",
      "[-0.73441522  0.35652386  0.59700579 -0.2604035  -0.22616938  0.02387489\n",
      " -0.80195947  0.56948944 -0.62847865 -0.58772857]\n"
     ]
    }
   ],
   "source": [
    "import numpy as np\n",
    "n = int(input(\"Enter the value of n: \"))\n",
    "if n <= 0:\n",
    "    print(\"Please enter a positive integer greater than 0.\")\n",
    "else:\n",
    "    print(f\"{n} randomly generated normally distributed numbers are:\")\n",
    "    print(np.random.standard_normal(n))"
   ]
  },
  {
   "cell_type": "markdown",
   "id": "0871a266",
   "metadata": {},
   "source": [
    "## 6- Ask the user for n, mean, standard deviation, and generate n real numbers with given mean and standard deviation."
   ]
  },
  {
   "cell_type": "code",
   "execution_count": 29,
   "id": "ced200b2",
   "metadata": {},
   "outputs": [
    {
     "name": "stdout",
     "output_type": "stream",
     "text": [
      "7 randomly generated normally distributed numbers with mean:5 and standard deviation:3 are:\n",
      "[ 6.49514688  5.12427421  5.56879627  1.77753307  7.5326948  11.50134936\n",
      "  1.26106186]\n"
     ]
    }
   ],
   "source": [
    "import numpy as np\n",
    "n = int(input(\"Enter the value of n: \"))\n",
    "mean = int(input(\"Enter the value of the mean:\"))\n",
    "std = int(input(\"Enter the value of standard deviation:\"))\n",
    "if n <= 0:\n",
    "    print(\"Please enter a positive integer greater than 0.\")\n",
    "elif std < 0:\n",
    "    print(\"Standard deviation must be non-negative.\")\n",
    "else:\n",
    "    print(f\"{n} randomly generated normally distributed numbers with mean:{mean} and standard deviation:{std} are:\")\n",
    "    print(np.random.normal(loc = mean, scale = std, size = n))"
   ]
  }
 ],
 "metadata": {
  "kernelspec": {
   "display_name": "base",
   "language": "python",
   "name": "python3"
  },
  "language_info": {
   "codemirror_mode": {
    "name": "ipython",
    "version": 3
   },
   "file_extension": ".py",
   "mimetype": "text/x-python",
   "name": "python",
   "nbconvert_exporter": "python",
   "pygments_lexer": "ipython3",
   "version": "3.12.7"
  }
 },
 "nbformat": 4,
 "nbformat_minor": 5
}

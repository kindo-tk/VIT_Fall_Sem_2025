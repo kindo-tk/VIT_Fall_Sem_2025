{
 "cells": [
  {
   "cell_type": "markdown",
   "id": "66001a47",
   "metadata": {},
   "source": [
    "| **Name**         | Tufan Kundu               |\n",
    "|------------------|---------------------------|\n",
    "| **Reg No.**      | 24MDT0184                 |\n",
    "| **Course Name**  | Advanced Machine Learning Lab   |\n",
    "| **Course Code**  | PMDS602P                  |\n",
    "| **Date**   | 05 August, 2025  |\n"
   ]
  },
  {
   "cell_type": "markdown",
   "id": "b263b393",
   "metadata": {},
   "source": [
    "## Q- Take a 3D vector as input and calculate the Mahalanobis distance from the origin."
   ]
  },
  {
   "cell_type": "code",
   "execution_count": 5,
   "id": "f4f1db9c",
   "metadata": {},
   "outputs": [
    {
     "name": "stdout",
     "output_type": "stream",
     "text": [
      "Enter the 3D vector separated by space:\n",
      "Mahalanobis distance of vector [5. 4. 7.] from the origin is: 9.4868 units\n"
     ]
    }
   ],
   "source": [
    "import numpy as np\n",
    "from scipy.spatial.distance import mahalanobis\n",
    "\n",
    "print(\"Enter the 3D vector separated by space:\")\n",
    "l = np.array(list(map(float, input().split())))\n",
    "VI = np.identity(3)  \n",
    "origin = np.zeros(3)\n",
    "dist = mahalanobis(l, origin, VI)\n",
    "print(f\"Mahalanobis distance of vector {l} from the origin is: {dist:.4f} units\")\n"
   ]
  },
  {
   "cell_type": "markdown",
   "id": "069d6a70",
   "metadata": {},
   "source": [
    "## Q- Find the outlier from the points [[1,3],[3,1],[2,2],[2,4],[4,3],[200,100]] using mahalanobis distance."
   ]
  },
  {
   "cell_type": "code",
   "execution_count": 14,
   "id": "98f312da",
   "metadata": {},
   "outputs": [
    {
     "name": "stdout",
     "output_type": "stream",
     "text": [
      "Chi-squared threshold (85% confidence): 1.9479\n",
      "\n",
      "     X    Y  Mahalanobis_Distance  Outlier\n",
      "0    1    3              0.975971    False\n",
      "1    3    1              1.587472    False\n",
      "2    2    2              0.528082    False\n",
      "3    2    4              1.353081    False\n",
      "4    4    3              0.501474    False\n",
      "5  200  100              2.041136     True\n"
     ]
    }
   ],
   "source": [
    "import numpy as np\n",
    "import pandas as pd\n",
    "from scipy.spatial.distance import mahalanobis\n",
    "from scipy.stats import chi2\n",
    "\n",
    "points = np.array([[1, 3], [3, 1], [2, 2], [2, 4], [4, 3], [200, 100]])\n",
    "\n",
    "# Mean and inverse covariance matrix\n",
    "mean_vector = np.mean(points, axis=0)\n",
    "cov_matrix = np.cov(points.T)\n",
    "inv_cov_matrix = np.linalg.inv(cov_matrix)\n",
    "\n",
    "# Mahalanobis distances\n",
    "distances = []\n",
    "for p in points:\n",
    "    d = mahalanobis(p, mean_vector, inv_cov_matrix)\n",
    "    distances.append(d)\n",
    "\n",
    "confidence = 0.85\n",
    "threshold = np.sqrt(chi2.ppf(confidence, 2))\n",
    "\n",
    "df = pd.DataFrame(points, columns=['X', 'Y'])\n",
    "df[\"Mahalanobis_Distance\"] = distances\n",
    "df[\"Outlier\"] = df[\"Mahalanobis_Distance\"] > threshold\n",
    "\n",
    "# Display results\n",
    "print(f\"Chi-squared threshold (85% confidence): {threshold:.4f}\\n\")\n",
    "print(df)"
   ]
  }
 ],
 "metadata": {
  "kernelspec": {
   "display_name": "base",
   "language": "python",
   "name": "python3"
  },
  "language_info": {
   "codemirror_mode": {
    "name": "ipython",
    "version": 3
   },
   "file_extension": ".py",
   "mimetype": "text/x-python",
   "name": "python",
   "nbconvert_exporter": "python",
   "pygments_lexer": "ipython3",
   "version": "3.13.5"
  }
 },
 "nbformat": 4,
 "nbformat_minor": 5
}
